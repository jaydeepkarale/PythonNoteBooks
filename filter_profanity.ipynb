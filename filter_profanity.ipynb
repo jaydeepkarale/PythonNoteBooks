{
 "cells": [
  {
   "cell_type": "markdown",
   "id": "a8f53233-94f7-4db7-bf80-ceac4c54b082",
   "metadata": {
    "tags": []
   },
   "source": [
    "### Submit File For Processing With Additional _filter_profanity_ Parameter ✅"
   ]
  },
  {
   "cell_type": "code",
   "execution_count": null,
   "id": "d42fb7d3-5e33-4792-bdc3-a30c3cb79901",
   "metadata": {},
   "outputs": [],
   "source": [
    "import requests\n",
    "endpoint = \"https://api.assemblyai.com/v2/transcript\"\n",
    "json = {\n",
    "    \"audio_url\": \"https://bit.ly/3yxKEIY\",\n",
    "    \"filter_profanity\": True ### use this parameter to replace profanity with ***\n",
    "}\n",
    "headers = {\n",
    "    \"authorization\": \"YOUR-API-TOKEN\",\n",
    "    \"content-type\": \"application/json\"\n",
    "}\n",
    "response = requests.post(endpoint, json=json, headers=headers)\n",
    "print(response.json())"
   ]
  },
  {
   "cell_type": "markdown",
   "id": "70112499-0f0d-4ef2-928a-6211b2e3876b",
   "metadata": {},
   "source": [
    "## Sample Output ✅"
   ]
  },
  {
   "cell_type": "markdown",
   "id": "9af21e93-18c4-484e-b480-1607c863e5e6",
   "metadata": {},
   "source": [
    "It was a f****** hilarious experience but I wouldn't do it again if asked to"
   ]
  },
  {
   "cell_type": "code",
   "execution_count": null,
   "id": "5d5ef2fb-3566-4b11-bf39-6e357421457e",
   "metadata": {},
   "outputs": [],
   "source": []
  }
 ],
 "metadata": {
  "kernelspec": {
   "display_name": "Python 3 (ipykernel)",
   "language": "python",
   "name": "python3"
  },
  "language_info": {
   "codemirror_mode": {
    "name": "ipython",
    "version": 3
   },
   "file_extension": ".py",
   "mimetype": "text/x-python",
   "name": "python",
   "nbconvert_exporter": "python",
   "pygments_lexer": "ipython3",
   "version": "3.10.4"
  }
 },
 "nbformat": 4,
 "nbformat_minor": 5
}
