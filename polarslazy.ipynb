import polars as pl
import time

# Polars Lazy Load CSV
start = time.time()
df = pl.read_csv('flights.csv')
       .lazy()
       .filter(
         (pl.col('MONTH') == 12) & 
         (pl.col('ORIGIN_AIRPORT') == 'SEA') &
         (pl.col('DESTINATION_AIRPORT') == 'DFW')).collect()
end = time.time()
print(end - start)
display(df)

# Lazy join data frames
df = (
df_trips.lazy().join(df_zone.lazy(),how="inner", left_on="PULocationID_column", right_on="LocationID")
).collect()
