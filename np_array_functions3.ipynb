{
 "cells": [
  {
   "cell_type": "code",
   "execution_count": 1,
   "id": "a655ca20-b7fc-481e-84b4-14b11a6f14c5",
   "metadata": {},
   "outputs": [],
   "source": [
    "import numpy as np"
   ]
  },
  {
   "cell_type": "markdown",
   "id": "a6442e2a-6898-42e4-8838-8687fc294f9c",
   "metadata": {},
   "source": [
    "### Array: It is used to create one-dimensional or multidimensional arrays from scratch"
   ]
  },
  {
   "cell_type": "code",
   "execution_count": 2,
   "id": "57d3c160-aca6-4c2f-bc82-f8fe8fe00bbb",
   "metadata": {},
   "outputs": [
    {
     "data": {
      "text/plain": [
       "array(['1', '2', '$', 'Hello'], dtype='<U11')"
      ]
     },
     "execution_count": 2,
     "metadata": {},
     "output_type": "execute_result"
    }
   ],
   "source": [
    "np.array([1,2,'$','Hello'])"
   ]
  },
  {
   "cell_type": "markdown",
   "id": "0cd6a3bc-7a4c-4d84-b6f7-9294c6841db2",
   "metadata": {},
   "source": [
    "### linspace: Creates an array with evenly spaced float numbers over a specified interval\n"
   ]
  },
  {
   "cell_type": "code",
   "execution_count": 3,
   "id": "98d8da96-c78a-4968-980b-7a7efcf80a33",
   "metadata": {},
   "outputs": [
    {
     "data": {
      "text/plain": [
       "array([ 10.,  20.,  30.,  40.,  50.,  60.,  70.,  80.,  90., 100.])"
      ]
     },
     "execution_count": 3,
     "metadata": {},
     "output_type": "execute_result"
    }
   ],
   "source": [
    "np.linspace(start=10, stop=100, num=10)"
   ]
  },
  {
   "cell_type": "markdown",
   "id": "bdda009f-3d6f-4971-a463-feed329b8ee9",
   "metadata": {},
   "source": [
    "### Arange: Return evenly spaced integer values over a given interval with some step size."
   ]
  },
  {
   "cell_type": "code",
   "execution_count": 4,
   "id": "2e8f5300-0944-4ec9-9a93-f453e95dd308",
   "metadata": {},
   "outputs": [
    {
     "data": {
      "text/plain": [
       "array([5, 7, 9])"
      ]
     },
     "execution_count": 4,
     "metadata": {},
     "output_type": "execute_result"
    }
   ],
   "source": [
    "np.arange(5,10,2)"
   ]
  },
  {
   "cell_type": "markdown",
   "id": "f7315947-08a2-4f67-a0b1-7220939e9d1f",
   "metadata": {},
   "source": [
    "### Uniform: Generate a random sample from a uniform distribution between lower and higher limit values"
   ]
  },
  {
   "cell_type": "code",
   "execution_count": 5,
   "id": "98485493-5d99-4345-8b74-c25c92f67b27",
   "metadata": {},
   "outputs": [
    {
     "data": {
      "text/plain": [
       "array([5.76210049, 8.89490125, 7.59238713, 7.94059425])"
      ]
     },
     "execution_count": 5,
     "metadata": {},
     "output_type": "execute_result"
    }
   ],
   "source": [
    "np.random.uniform(5,10,size = 4)"
   ]
  },
  {
   "cell_type": "markdown",
   "id": "b99398b2-834e-4871-9aa4-877f184f6586",
   "metadata": {},
   "source": [
    "### Random.randint: Generate n random integer samples within a range"
   ]
  },
  {
   "cell_type": "code",
   "execution_count": 6,
   "id": "02a9f3e9-901d-4395-a60b-40ecf16ec0ff",
   "metadata": {},
   "outputs": [
    {
     "data": {
      "text/plain": [
       "array([8, 9, 7, 9, 6, 5, 7, 6, 5, 6])"
      ]
     },
     "execution_count": 6,
     "metadata": {},
     "output_type": "execute_result"
    }
   ],
   "source": [
    "np.random.randint(5,10,10)"
   ]
  },
  {
   "cell_type": "markdown",
   "id": "5b5567b1-2ba4-4725-99d6-3131ca3e0bed",
   "metadata": {},
   "source": [
    "### random: Generate n random float samples."
   ]
  },
  {
   "cell_type": "code",
   "execution_count": 7,
   "id": "ddb2554f-485a-4a5c-b580-d139d5702e81",
   "metadata": {},
   "outputs": [
    {
     "data": {
      "text/plain": [
       "array([0.94011157, 0.98985502, 0.22440276])"
      ]
     },
     "execution_count": 7,
     "metadata": {},
     "output_type": "execute_result"
    }
   ],
   "source": [
    "np.random.random(3)"
   ]
  },
  {
   "cell_type": "markdown",
   "id": "d4bd52ee-6435-4410-9c61-045a5e6416ae",
   "metadata": {},
   "source": [
    "### Logspace: Generate evenly spaced numbers on a log scale."
   ]
  },
  {
   "cell_type": "code",
   "execution_count": 8,
   "id": "bef6d8f4-9476-4ac5-8d3f-79095cd4e31c",
   "metadata": {},
   "outputs": [
    {
     "data": {
      "text/plain": [
       "array([1.00000000e+00, 5.65685425e+00, 3.20000000e+01, 1.81019336e+02,\n",
       "       1.02400000e+03])"
      ]
     },
     "execution_count": 8,
     "metadata": {},
     "output_type": "execute_result"
    }
   ],
   "source": [
    "np.logspace(0,10,5,base=2)"
   ]
  },
  {
   "cell_type": "markdown",
   "id": "eb043140-5f2f-4d8c-a61c-7b4f57b29f25",
   "metadata": {},
   "source": [
    "### Zeros: Create an array of zeros"
   ]
  },
  {
   "cell_type": "code",
   "execution_count": 9,
   "id": "fc425984-cc5b-424f-a7dc-ce32fe291cb2",
   "metadata": {},
   "outputs": [
    {
     "data": {
      "text/plain": [
       "array([[0, 0, 0],\n",
       "       [0, 0, 0]])"
      ]
     },
     "execution_count": 9,
     "metadata": {},
     "output_type": "execute_result"
    }
   ],
   "source": [
    "np.zeros((2,3),dtype='int')"
   ]
  },
  {
   "cell_type": "markdown",
   "id": "65f77afb-5078-46fa-b5a2-8c0dcb05314f",
   "metadata": {},
   "source": [
    "### Ones: Create an array of ones"
   ]
  },
  {
   "cell_type": "code",
   "execution_count": 10,
   "id": "64b7acc4-bf23-466f-846d-3424a89fc7bf",
   "metadata": {},
   "outputs": [
    {
     "data": {
      "text/plain": [
       "array([[1., 1., 1., 1.],\n",
       "       [1., 1., 1., 1.],\n",
       "       [1., 1., 1., 1.]])"
      ]
     },
     "execution_count": 10,
     "metadata": {},
     "output_type": "execute_result"
    }
   ],
   "source": [
    "np.ones((3,4))"
   ]
  },
  {
   "cell_type": "markdown",
   "id": "7746960e-4da5-41b5-a775-372fb259cb16",
   "metadata": {},
   "source": [
    "### Full: Creates an n-dimensional array of a random value."
   ]
  },
  {
   "cell_type": "code",
   "execution_count": 11,
   "id": "37f1fbe0-6d92-4d33-bf9c-8399e231a264",
   "metadata": {},
   "outputs": [
    {
     "data": {
      "text/plain": [
       "array([[2, 2, 2, 2],\n",
       "       [2, 2, 2, 2]])"
      ]
     },
     "execution_count": 11,
     "metadata": {},
     "output_type": "execute_result"
    }
   ],
   "source": [
    "np.full(shape=(2,4),fill_value=2)"
   ]
  },
  {
   "cell_type": "markdown",
   "id": "a15b979a-fc3a-4f31-b8ce-f83ca6cdc34a",
   "metadata": {},
   "source": [
    "### Identity: Create an identity matrix with specified dimensions."
   ]
  },
  {
   "cell_type": "code",
   "execution_count": 12,
   "id": "14010b28-32b1-4693-bbde-a1aef047f043",
   "metadata": {},
   "outputs": [
    {
     "data": {
      "text/plain": [
       "array([[1., 0., 0., 0.],\n",
       "       [0., 1., 0., 0.],\n",
       "       [0., 0., 1., 0.],\n",
       "       [0., 0., 0., 1.]])"
      ]
     },
     "execution_count": 12,
     "metadata": {},
     "output_type": "execute_result"
    }
   ],
   "source": [
    "np.identity(4)"
   ]
  }
 ],
 "metadata": {
  "kernelspec": {
   "display_name": "Python 3 (ipykernel)",
   "language": "python",
   "name": "python3"
  },
  "language_info": {
   "codemirror_mode": {
    "name": "ipython",
    "version": 3
   },
   "file_extension": ".py",
   "mimetype": "text/x-python",
   "name": "python",
   "nbconvert_exporter": "python",
   "pygments_lexer": "ipython3",
   "version": "3.10.4"
  }
 },
 "nbformat": 4,
 "nbformat_minor": 5
}
