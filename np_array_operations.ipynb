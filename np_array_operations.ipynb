{
 "cells": [
  {
   "cell_type": "code",
   "execution_count": 1,
   "id": "a655ca20-b7fc-481e-84b4-14b11a6f14c5",
   "metadata": {},
   "outputs": [],
   "source": [
    "import numpy as np"
   ]
  },
  {
   "cell_type": "markdown",
   "id": "a6442e2a-6898-42e4-8838-8687fc294f9c",
   "metadata": {},
   "source": [
    "### Min: Return the minimum value from the array."
   ]
  },
  {
   "cell_type": "code",
   "execution_count": 2,
   "id": "57d3c160-aca6-4c2f-bc82-f8fe8fe00bbb",
   "metadata": {},
   "outputs": [
    {
     "data": {
      "text/plain": [
       "7"
      ]
     },
     "execution_count": 2,
     "metadata": {},
     "output_type": "execute_result"
    }
   ],
   "source": [
    "arr = np.array([10,100,1000,7])\n",
    "np.min(arr)"
   ]
  },
  {
   "cell_type": "markdown",
   "id": "0cd6a3bc-7a4c-4d84-b6f7-9294c6841db2",
   "metadata": {},
   "source": [
    "### Max: Return the minimum value from the array."
   ]
  },
  {
   "cell_type": "code",
   "execution_count": 17,
   "id": "98d8da96-c78a-4968-980b-7a7efcf80a33",
   "metadata": {},
   "outputs": [
    {
     "data": {
      "text/plain": [
       "1000"
      ]
     },
     "execution_count": 17,
     "metadata": {},
     "output_type": "execute_result"
    }
   ],
   "source": [
    "arr = np.array([10,100,1000,7])\n",
    "np.max(arr)"
   ]
  },
  {
   "cell_type": "markdown",
   "id": "bdda009f-3d6f-4971-a463-feed329b8ee9",
   "metadata": {},
   "source": [
    "### Unique: Return an array with all the unique elements sorted."
   ]
  },
  {
   "cell_type": "code",
   "execution_count": 4,
   "id": "2e8f5300-0944-4ec9-9a93-f453e95dd308",
   "metadata": {},
   "outputs": [
    {
     "data": {
      "text/plain": [
       "(array([   7,   10,  100, 1000]), array([5, 1, 2, 3], dtype=int64))"
      ]
     },
     "execution_count": 4,
     "metadata": {},
     "output_type": "execute_result"
    }
   ],
   "source": [
    "arr = np.array([10, 100, 100, 1000, 1000, 1000, 7,7,7,7,7])\n",
    "np.unique(arr,return_counts=True)"
   ]
  },
  {
   "cell_type": "markdown",
   "id": "f7315947-08a2-4f67-a0b1-7220939e9d1f",
   "metadata": {},
   "source": [
    "### Mean: It is used to get the mean of the array."
   ]
  },
  {
   "cell_type": "code",
   "execution_count": 5,
   "id": "98485493-5d99-4345-8b74-c25c92f67b27",
   "metadata": {},
   "outputs": [
    {
     "data": {
      "text/plain": [
       "279"
      ]
     },
     "execution_count": 5,
     "metadata": {},
     "output_type": "execute_result"
    }
   ],
   "source": [
    "arr = np.array([10,100,1000,7])\n",
    "np.mean(arr,dtype='int')"
   ]
  },
  {
   "cell_type": "markdown",
   "id": "b99398b2-834e-4871-9aa4-877f184f6586",
   "metadata": {},
   "source": [
    "### Median: It is used to get the median of the array."
   ]
  },
  {
   "cell_type": "code",
   "execution_count": 6,
   "id": "02a9f3e9-901d-4395-a60b-40ecf16ec0ff",
   "metadata": {},
   "outputs": [
    {
     "data": {
      "text/plain": [
       "350.0"
      ]
     },
     "execution_count": 6,
     "metadata": {},
     "output_type": "execute_result"
    }
   ],
   "source": [
    "arr = np.array([[100,200,300],[500,800,400]])\n",
    "np.median(arr)"
   ]
  },
  {
   "cell_type": "markdown",
   "id": "5b5567b1-2ba4-4725-99d6-3131ca3e0bed",
   "metadata": {},
   "source": [
    "### Digitize: Return the indices of the bins(baskets) to which each value in the input array belongs"
   ]
  },
  {
   "cell_type": "code",
   "execution_count": 7,
   "id": "ddb2554f-485a-4a5c-b580-d139d5702e81",
   "metadata": {},
   "outputs": [
    {
     "data": {
      "text/plain": [
       "array([0, 3, 4, 5, 4], dtype=int64)"
      ]
     },
     "execution_count": 7,
     "metadata": {},
     "output_type": "execute_result"
    }
   ],
   "source": [
    "a = np.array([-1, 2, 6, 10, 3])\n",
    "bins = np.array([0, 1, 2, 3, 10])\n",
    "np.digitize(a,bins)"
   ]
  },
  {
   "cell_type": "markdown",
   "id": "d4bd52ee-6435-4410-9c61-045a5e6416ae",
   "metadata": {},
   "source": [
    "### Reshape: Returns an array containing the same data with a new shape."
   ]
  },
  {
   "cell_type": "code",
   "execution_count": 8,
   "id": "dd8133bf-1a21-44e4-a593-fffa51c29e54",
   "metadata": {},
   "outputs": [
    {
     "data": {
      "text/plain": [
       "array([[ 0, 12, 13],\n",
       "       [ 1, 11, 12],\n",
       "       [ 9, 14,  4],\n",
       "       [ 9, 14,  7]])"
      ]
     },
     "execution_count": 8,
     "metadata": {},
     "output_type": "execute_result"
    }
   ],
   "source": [
    "arr_re = np.random.randint(15,size=(4,3))\n",
    "arr_re"
   ]
  },
  {
   "cell_type": "code",
   "execution_count": 9,
   "id": "bef6d8f4-9476-4ac5-8d3f-79095cd4e31c",
   "metadata": {},
   "outputs": [
    {
     "data": {
      "text/plain": [
       "array([[ 0, 12, 13,  1],\n",
       "       [11, 12,  9, 14],\n",
       "       [ 4,  9, 14,  7]])"
      ]
     },
     "execution_count": 9,
     "metadata": {},
     "output_type": "execute_result"
    }
   ],
   "source": [
    "z = arr_re.reshape(3,4)\n",
    "z"
   ]
  },
  {
   "cell_type": "markdown",
   "id": "eb043140-5f2f-4d8c-a61c-7b4f57b29f25",
   "metadata": {},
   "source": [
    "### Count Non-Zero: Count all the non-zero elements and return their count."
   ]
  },
  {
   "cell_type": "code",
   "execution_count": 10,
   "id": "fc425984-cc5b-424f-a7dc-ce32fe291cb2",
   "metadata": {},
   "outputs": [
    {
     "data": {
      "text/plain": [
       "3"
      ]
     },
     "execution_count": 10,
     "metadata": {},
     "output_type": "execute_result"
    }
   ],
   "source": [
    "a = np.array([0,0,1,1,1,0])\n",
    "np.count_nonzero(a)"
   ]
  },
  {
   "cell_type": "markdown",
   "id": "65f77afb-5078-46fa-b5a2-8c0dcb05314f",
   "metadata": {},
   "source": [
    "### Argwhere: Find and return all the indices of non-zero elements."
   ]
  },
  {
   "cell_type": "code",
   "execution_count": 11,
   "id": "64b7acc4-bf23-466f-846d-3424a89fc7bf",
   "metadata": {},
   "outputs": [
    {
     "data": {
      "text/plain": [
       "array([[2],\n",
       "       [3],\n",
       "       [4]], dtype=int64)"
      ]
     },
     "execution_count": 11,
     "metadata": {},
     "output_type": "execute_result"
    }
   ],
   "source": [
    "a = np.array([0,0,1,1,1,0])\n",
    "np.argwhere(a)"
   ]
  },
  {
   "cell_type": "markdown",
   "id": "7746960e-4da5-41b5-a775-372fb259cb16",
   "metadata": {},
   "source": [
    "### Argmax & Argmin: Returns the index of the max & min element from the array."
   ]
  },
  {
   "cell_type": "code",
   "execution_count": 12,
   "id": "d3ad8e42-f516-4fc1-bf13-739974df5540",
   "metadata": {},
   "outputs": [
    {
     "data": {
      "text/plain": [
       "1"
      ]
     },
     "execution_count": 12,
     "metadata": {},
     "output_type": "execute_result"
    }
   ],
   "source": [
    "arr = np.array([[0.12,0.64,0.19,0.05]])\n",
    "np.argmax(arr)"
   ]
  },
  {
   "cell_type": "code",
   "execution_count": 13,
   "id": "37f1fbe0-6d92-4d33-bf9c-8399e231a264",
   "metadata": {},
   "outputs": [
    {
     "data": {
      "text/plain": [
       "3"
      ]
     },
     "execution_count": 13,
     "metadata": {},
     "output_type": "execute_result"
    }
   ],
   "source": [
    "np.argmin(arr)"
   ]
  },
  {
   "cell_type": "markdown",
   "id": "a15b979a-fc3a-4f31-b8ce-f83ca6cdc34a",
   "metadata": {},
   "source": [
    "### Squeeze: Reduce the dimension of an array by removing single-dimensional entries."
   ]
  },
  {
   "cell_type": "code",
   "execution_count": 14,
   "id": "14010b28-32b1-4693-bbde-a1aef047f043",
   "metadata": {},
   "outputs": [
    {
     "data": {
      "text/plain": [
       "array([ 8, 14,  1,  8, 11,  4,  9,  4,  1, 13, 13, 11])"
      ]
     },
     "execution_count": 14,
     "metadata": {},
     "output_type": "execute_result"
    }
   ],
   "source": [
    "arr = np.array([[ 8],[14],[ 1],[ 8],[11],[ 4],[ 9],[ 4],[ 1],[13],[13],[11]])\n",
    "np.squeeze(arr)"
   ]
  },
  {
   "cell_type": "markdown",
   "id": "86c6f6f0-406f-46cb-8263-585fd5ab18fc",
   "metadata": {},
   "source": [
    "### Sort: Sort the array and return.kind: Sorting algorithm to use. {‘quicksort’, ‘mergesort’, ‘heapsort’, ‘stable’} \n",
    "### Abs: Return the absolute values of elements inside an array"
   ]
  },
  {
   "cell_type": "code",
   "execution_count": 16,
   "id": "54965338-69f1-418b-a88a-b307f60fa69b",
   "metadata": {},
   "outputs": [
    {
     "ename": "SyntaxError",
     "evalue": "invalid syntax (3054818869.py, line 2)",
     "output_type": "error",
     "traceback": [
      "\u001b[1;36m  Input \u001b[1;32mIn [16]\u001b[1;36m\u001b[0m\n\u001b[1;33m    np.sort(arr, kind=<>)\u001b[0m\n\u001b[1;37m                      ^\u001b[0m\n\u001b[1;31mSyntaxError\u001b[0m\u001b[1;31m:\u001b[0m invalid syntax\n"
     ]
    }
   ],
   "source": [
    "arr = np.array([2,3,1,7,4,5])\n",
    "np.sort(arr, kind=<>)\n",
    "\n",
    "A = np.array([[1,-3,4],[-2,-4,3]])\n",
    "np.abs(A)"
   ]
  }
 ],
 "metadata": {
  "kernelspec": {
   "display_name": "Python 3 (ipykernel)",
   "language": "python",
   "name": "python3"
  },
  "language_info": {
   "codemirror_mode": {
    "name": "ipython",
    "version": 3
   },
   "file_extension": ".py",
   "mimetype": "text/x-python",
   "name": "python",
   "nbconvert_exporter": "python",
   "pygments_lexer": "ipython3",
   "version": "3.10.4"
  }
 },
 "nbformat": 4,
 "nbformat_minor": 5
}
