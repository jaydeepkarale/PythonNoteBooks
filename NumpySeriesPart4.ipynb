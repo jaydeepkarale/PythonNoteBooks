{
 "cells": [
  {
   "cell_type": "code",
   "execution_count": 1,
   "id": "484dbbb2-6225-43d4-9703-bf59b766f56d",
   "metadata": {},
   "outputs": [],
   "source": [
    "import numpy as np"
   ]
  },
  {
   "cell_type": "markdown",
   "id": "27efc895-bc5a-4189-9657-b1151a7b26c4",
   "metadata": {},
   "source": [
    "### np.intersect1d(arr1, arr2, assume_unique=False, return_indices=False) \n",
    "#### Return the sorted, unique values that are in both of the input arrays\n",
    "#### <span style=\"color:red\">assume_unique</span>: if true, then input arrays are both assumed to be unique which can speed up calculation.\n",
    "#### <span style=\"color:red\">return_indices</span>: if true, then common elements indices are returned."
   ]
  },
  {
   "cell_type": "code",
   "execution_count": 2,
   "id": "7c055b11-b9ec-4468-9aa8-3e439e5e1cbc",
   "metadata": {},
   "outputs": [
    {
     "data": {
      "text/plain": [
       "array([1, 3, 4, 5])"
      ]
     },
     "execution_count": 2,
     "metadata": {},
     "output_type": "execute_result"
    }
   ],
   "source": [
    "ar1 = np.array([1,2,3,4,5,6])\n",
    "ar2 = np.array([3,4,5,8,9,1])\n",
    "np.intersect1d(ar1,ar2)"
   ]
  },
  {
   "cell_type": "code",
   "execution_count": 3,
   "id": "99276d1f-9dae-402e-ab3b-f6d3c930f7bf",
   "metadata": {},
   "outputs": [
    {
     "data": {
      "text/plain": [
       "(array([1, 3, 4, 5]),\n",
       " array([0, 2, 3, 4], dtype=int64),\n",
       " array([5, 0, 1, 2], dtype=int64))"
      ]
     },
     "execution_count": 3,
     "metadata": {},
     "output_type": "execute_result"
    }
   ],
   "source": [
    "np.intersect1d(ar1,ar2,return_indices=True)"
   ]
  },
  {
   "cell_type": "markdown",
   "id": "2f781d1a-9923-42ea-bc78-c35de7384ef0",
   "metadata": {},
   "source": [
    "### numpy.setdiff1d(ar1, ar2, assume_unique=False) \n",
    "#### Return the unique values in ar1 that are not in ar2\n",
    "#### <span style=\"color:red\">assume_unique</span>: if true, then input arrays are both assumed to be unique which can speed up calculation."
   ]
  },
  {
   "cell_type": "code",
   "execution_count": 4,
   "id": "2944dd27-39e1-4756-9aa8-d571e21ca2e6",
   "metadata": {},
   "outputs": [
    {
     "data": {
      "text/plain": [
       "array([1, 3, 4])"
      ]
     },
     "execution_count": 4,
     "metadata": {},
     "output_type": "execute_result"
    }
   ],
   "source": [
    "a = np.array([1, 7, 3, 2, 4, 1])\n",
    "b = np.array([9, 2, 5, 6, 7, 8])\n",
    "np.setdiff1d(a, b)"
   ]
  },
  {
   "cell_type": "markdown",
   "id": "83083640-0da6-43fd-8b2a-0d7a4195b8ca",
   "metadata": {},
   "source": [
    "### numpy.setxor1d(ar1, ar2, assume_unique=False) \n",
    "#### Return the sorted, unique values that are in only one (not both) of the input arrays.\n",
    "#### <span style=\"color:red\">assume_unique</span>: if true, then input arrays are both assumed to be unique which can speed up calculation."
   ]
  },
  {
   "cell_type": "code",
   "execution_count": 5,
   "id": "73dd5cc2-e24b-4f35-bd6d-a1707aff145a",
   "metadata": {},
   "outputs": [
    {
     "data": {
      "text/plain": [
       "array([1, 4, 5, 7])"
      ]
     },
     "execution_count": 5,
     "metadata": {},
     "output_type": "execute_result"
    }
   ],
   "source": [
    "a = np.array([1, 2, 3, 2, 4])\n",
    "b = np.array([2, 3, 5, 7, 5])\n",
    "np.setxor1d(a,b)"
   ]
  },
  {
   "cell_type": "markdown",
   "id": "09dd395d-d742-43a3-b0ec-44168acde044",
   "metadata": {},
   "source": [
    "### numpy.union1d(ar1, ar2) \n",
    "#### Return the unique, sorted array of values that are in either of the two input arrays"
   ]
  },
  {
   "cell_type": "code",
   "execution_count": 6,
   "id": "dc2d11f7-41c1-46c4-8cd0-aa740ca7c617",
   "metadata": {},
   "outputs": [
    {
     "data": {
      "text/plain": [
       "array([ 1,  2,  3,  4,  5, 36])"
      ]
     },
     "execution_count": 6,
     "metadata": {},
     "output_type": "execute_result"
    }
   ],
   "source": [
    "a = np.array([1, 2, 3, 4, 5])\n",
    "b = np.array([1, 3, 5, 4, 36])\n",
    "np.union1d(a,b)"
   ]
  },
  {
   "cell_type": "markdown",
   "id": "14fa6bb0-88eb-4bf7-a9f7-edc936e56c72",
   "metadata": {},
   "source": [
    "### numpy.hsplit(ary, indices_or_sections)\n",
    "#### Split an array into multiple sub-arrays horizontally (column-wise)"
   ]
  },
  {
   "cell_type": "code",
   "execution_count": 7,
   "id": "f2ea438b-08be-4782-8bae-2e436e46e48f",
   "metadata": {},
   "outputs": [
    {
     "data": {
      "text/plain": [
       "[array([[ 0.,  1.],\n",
       "        [ 4.,  5.],\n",
       "        [ 8.,  9.],\n",
       "        [12., 13.]]),\n",
       " array([[ 2.,  3.],\n",
       "        [ 6.,  7.],\n",
       "        [10., 11.],\n",
       "        [14., 15.]])]"
      ]
     },
     "execution_count": 7,
     "metadata": {},
     "output_type": "execute_result"
    }
   ],
   "source": [
    "x = np.arange(16.0).reshape(4, 4)\n",
    "np.hsplit(x, 2)"
   ]
  },
  {
   "cell_type": "markdown",
   "id": "d9ea7297-0717-4dc8-b649-2229c2bde624",
   "metadata": {},
   "source": [
    "### numpy.vsplit(ary, indices_or_sections)[source]\n",
    "#### Split an array into multiple sub-arrays vertically (row-wise)"
   ]
  },
  {
   "cell_type": "code",
   "execution_count": 8,
   "id": "79156ff9-8285-4d0f-8bb1-db1d37421a14",
   "metadata": {},
   "outputs": [
    {
     "data": {
      "text/plain": [
       "[array([[3, 4, 5, 2]]), array([[6, 7, 2, 6]])]"
      ]
     },
     "execution_count": 8,
     "metadata": {},
     "output_type": "execute_result"
    }
   ],
   "source": [
    "A = np.array([[3,4,5,2],[6,7,2,6]])\n",
    "np.vsplit(A,2)"
   ]
  },
  {
   "cell_type": "markdown",
   "id": "eda8989a-b118-4f00-b667-b86bddf53e7c",
   "metadata": {},
   "source": [
    "### numpy.hstack(tup)\n",
    "#### Stack arrays in sequence horizontally (column wise)"
   ]
  },
  {
   "cell_type": "code",
   "execution_count": 9,
   "id": "45175085-2c97-453a-b4ee-b33e99a8d636",
   "metadata": {},
   "outputs": [
    {
     "data": {
      "text/plain": [
       "array([ 1,  2,  3,  4,  5,  1,  4,  9, 16, 25])"
      ]
     },
     "execution_count": 9,
     "metadata": {},
     "output_type": "execute_result"
    }
   ],
   "source": [
    "a = np.array([1,2,3,4,5])\n",
    "b = np.array([1,4,9,16,25])\n",
    "np.hstack((a,b))"
   ]
  },
  {
   "cell_type": "markdown",
   "id": "f5f7a02e-8ffc-480d-aa72-8cdc48e0111e",
   "metadata": {},
   "source": [
    "### numpy.vstack(tup)\n",
    "#### Stack arrays in sequence vertically (row wise)."
   ]
  },
  {
   "cell_type": "code",
   "execution_count": 10,
   "id": "10cedc55-c8b0-4efb-ab3d-5f4f5eced84a",
   "metadata": {},
   "outputs": [
    {
     "data": {
      "text/plain": [
       "array([[ 1,  2,  3,  4,  5],\n",
       "       [ 1,  4,  9, 16, 25]])"
      ]
     },
     "execution_count": 10,
     "metadata": {},
     "output_type": "execute_result"
    }
   ],
   "source": [
    "a = np.array([1,2,3,4,5])\n",
    "b = np.array([1,4,9,16,25])\n",
    "np.vstack((a,b))"
   ]
  }
 ],
 "metadata": {
  "kernelspec": {
   "display_name": "Python 3 (ipykernel)",
   "language": "python",
   "name": "python3"
  },
  "language_info": {
   "codemirror_mode": {
    "name": "ipython",
    "version": 3
   },
   "file_extension": ".py",
   "mimetype": "text/x-python",
   "name": "python",
   "nbconvert_exporter": "python",
   "pygments_lexer": "ipython3",
   "version": "3.10.4"
  }
 },
 "nbformat": 4,
 "nbformat_minor": 5
}
