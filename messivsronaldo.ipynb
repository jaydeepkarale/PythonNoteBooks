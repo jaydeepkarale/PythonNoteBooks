{
 "cells": [
  {
   "cell_type": "code",
   "execution_count": 1,
   "id": "ce8647a3-7c60-4a3b-aba8-4a07e0352618",
   "metadata": {},
   "outputs": [],
   "source": [
    "import pandas as pd\n",
    "import numpy as np\n",
    "import matplotlib.pyplot as plt"
   ]
  },
  {
   "cell_type": "code",
   "execution_count": 2,
   "id": "c4adc4c0-00e0-4cbe-bfaa-c687ee1fa7f1",
   "metadata": {},
   "outputs": [],
   "source": [
    "df = pd.read_csv('MessivsRonaldo.csv')"
   ]
  },
  {
   "cell_type": "code",
   "execution_count": 3,
   "id": "ed1be82e-25ac-47b1-85e9-73ec7b199977",
   "metadata": {},
   "outputs": [
    {
     "data": {
      "image/png": "[encoded data removed]",
      "text/plain": [
       "<Figure size 432x288 with 1 Axes>"
      ]
     },
     "metadata": {
      "needs_background": "light"
     },
     "output_type": "display_data"
    }
   ],
   "source": [
    "x = np.arange(len(df['Year']))\n",
    "width = 0.25\n",
    "plt.bar(x, df['Messi'], color='#8ecae6',width=width, label='Messi')\n",
    "plt.bar(x+width, df['Ronaldo'], color='#023047',width=width, label='Ronaldo')\n",
    "\n",
    "# labeling graphs\n",
    "plt.xlabel('Year')\n",
    "plt.ylabel('Goals Scored')\n",
    "plt.legend()\n",
    "plt.xticks(x+width/2,df['Year'])\n",
    "\n",
    "plt.show()"
   ]
  },
  {
   "cell_type": "code",
   "execution_count": null,
   "id": "563985d2-09bf-4fb2-9476-427c9f61d884",
   "metadata": {},
   "outputs": [],
   "source": []
  }
 ],
 "metadata": {
  "kernelspec": {
   "display_name": "Python 3 (ipykernel)",
   "language": "python",
   "name": "python3"
  },
  "language_info": {
   "codemirror_mode": {
    "name": "ipython",
    "version": 3
   },
   "file_extension": ".py",
   "mimetype": "text/x-python",
   "name": "python",
   "nbconvert_exporter": "python",
   "pygments_lexer": "ipython3",
   "version": "3.10.4"
  }
 },
 "nbformat": 4,
 "nbformat_minor": 5
}
